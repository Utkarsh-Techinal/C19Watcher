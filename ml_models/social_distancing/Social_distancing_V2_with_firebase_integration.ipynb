{
  "nbformat": 4,
  "nbformat_minor": 0,
  "metadata": {
    "colab": {
      "name": "Social_distancing_V2_with_firebase_integration.ipynb",
      "provenance": [],
      "private_outputs": true,
      "collapsed_sections": []
    },
    "kernelspec": {
      "name": "python3",
      "display_name": "Python 3"
    },
    "accelerator": "GPU"
  },
  "cells": [
    {
      "cell_type": "code",
      "metadata": {
        "id": "xcuaa9wm_Zrr"
      },
      "source": [
        "# install dependencies: \n",
        "!pip install pyyaml==5.1 pycocotools>=2.0.1\n",
        "import torch, torchvision\n",
        "print(torch.__version__, torch.cuda.is_available())\n",
        "!gcc --version\n",
        "# opencv is pre-installed on colab\n"
      ],
      "execution_count": null,
      "outputs": []
    },
    {
      "cell_type": "code",
      "metadata": {
        "id": "cOsfuhwc_glX"
      },
      "source": [
        "# install detectron2: (Colab has CUDA 10.1 + torch 1.6)\n",
        "# See https://detectron2.readthedocs.io/tutorials/install.html for instructions\n",
        "assert torch.__version__.startswith(\"1.6\")\n",
        "!pip install detectron2 -f https://dl.fbaipublicfiles.com/detectron2/wheels/cu101/torch1.6/index.html"
      ],
      "execution_count": null,
      "outputs": []
    },
    {
      "cell_type": "code",
      "metadata": {
        "id": "Olrz6Jfq_lC1"
      },
      "source": [
        "# Some basic setup:\n",
        "# Setup detectron2 logger\n",
        "import detectron2\n",
        "from detectron2.utils.logger import setup_logger\n",
        "setup_logger()\n",
        "\n",
        "# import some common libraries\n",
        "import numpy as np\n",
        "import os, json, cv2, random\n",
        "from google.colab.patches import cv2_imshow\n",
        "\n",
        "# import some common detectron2 utilities\n",
        "from detectron2 import model_zoo\n",
        "from detectron2.engine import DefaultPredictor\n",
        "from detectron2.config import get_cfg\n",
        "from detectron2.utils.visualizer import Visualizer\n",
        "from detectron2.data import MetadataCatalog, DatasetCatalog\n",
        "\n",
        "import requests\n",
        "from firebase_admin import credentials, initialize_app, storage"
      ],
      "execution_count": null,
      "outputs": []
    },
    {
      "cell_type": "code",
      "metadata": {
        "id": "qF_f9Ba6_0Wq"
      },
      "source": [
        "import matplotlib.pyplot as plt"
      ],
      "execution_count": null,
      "outputs": []
    },
    {
      "cell_type": "code",
      "metadata": {
        "id": "jB8IgdydAEIK"
      },
      "source": [
        "%%time\n",
        "!rm -r frames/*\n",
        "!mkdir frames/"
      ],
      "execution_count": null,
      "outputs": []
    },
    {
      "cell_type": "code",
      "metadata": {
        "id": "2wDpntWUDAky"
      },
      "source": [
        "!pwd"
      ],
      "execution_count": null,
      "outputs": []
    },
    {
      "cell_type": "code",
      "metadata": {
        "id": "WJjQ0IIWDHB4"
      },
      "source": [
        "video = \"/content/WhatsApp Video 2020-10-03 at 5.03.58 PM.mp4\"\n",
        "\n",
        "cap = cv2.VideoCapture(video)\n",
        "cnt = 0\n",
        "\n",
        "if(cap.isOpened() == False):\n",
        "  print(\"Error opening video stream or file\")\n",
        "\n",
        "ret,first_frame = cap.read()\n",
        "\n",
        "while(cap.isOpened()):\n",
        "  ret,frame = cap.read()\n",
        "  if(ret == True):\n",
        "    cv2.imwrite('/content/drive/My Drive/social_distancing/Dataset/'+str(cnt)+'.png',frame)\n",
        "    cnt = cnt + 1\n",
        "    if(cnt == 750):\n",
        "      break\n",
        "  else:\n",
        "    break"
      ],
      "execution_count": null,
      "outputs": []
    },
    {
      "cell_type": "code",
      "metadata": {
        "id": "zbAgy02EEgN4"
      },
      "source": [
        "FPS = cap.get(cv2.CAP_PROP_FPS)\n",
        "print(FPS)"
      ],
      "execution_count": null,
      "outputs": []
    },
    {
      "cell_type": "code",
      "metadata": {
        "id": "FV9-0KLoE98D"
      },
      "source": [
        "cfg = get_cfg()\n",
        "\n",
        "cfg.merge_from_file(model_zoo.get_config_file(\"COCO-Detection/faster_rcnn_R_50_C4_3x.yaml\"))\n",
        "cfg.MODEL.ROI_HEADS.SCORE_THRESH_TEST = 0.9\n",
        "\n",
        "cfg.MODEL.WEIGHTS = model_zoo.get_checkpoint_url(\"COCO-Detection/faster_rcnn_R_50_C4_3x.yaml\")\n",
        "predictor = DefaultPredictor(cfg)"
      ],
      "execution_count": null,
      "outputs": []
    },
    {
      "cell_type": "code",
      "metadata": {
        "id": "_Zji-utCJdnp"
      },
      "source": [
        "def mid_point(img,person,idx):\n",
        "  x1,y1,x2,y2 = person[idx]\n",
        "  _=cv2.rectangle(img,(x1,y1),(x2,y2),(0,255,0),2)\n",
        "\n",
        "  x_mid = int((x1+x2)/2)\n",
        "  y_mid = int(y2)\n",
        "  mid = (x_mid, y_mid)\n",
        "\n",
        "  _=cv2.circle(img,mid,5,(0,255,0),-1)\n",
        "  cv2.putText(img, str(idx), mid, cv2.FONT_HERSHEY_SIMPLEX,1,(255,255,255),2,cv2.LINE_AA)\n",
        "\n",
        "  return mid"
      ],
      "execution_count": null,
      "outputs": []
    },
    {
      "cell_type": "code",
      "metadata": {
        "id": "9P2uIpm3L0-8"
      },
      "source": [
        "%%time\n",
        "from scipy.spatial import distance\n",
        "def compute_distance(midpoints,num):\n",
        "  dist = np.zeros((num,num))\n",
        "  for i in range(num):\n",
        "    for j in range(i+1, num):\n",
        "      if i!=j:\n",
        "        dst = distance.euclidean(midpoints[i], midpoints[j])\n",
        "        dist[i][j] = dst\n",
        "  return dist"
      ],
      "execution_count": null,
      "outputs": []
    },
    {
      "cell_type": "code",
      "metadata": {
        "id": "4-oijewyNylb"
      },
      "source": [
        "def find_closest(dist,num,thresh):\n",
        "  p1 = []\n",
        "  p2 = []\n",
        "  d = []\n",
        "  for i in range(num):\n",
        "    for j in range(i,num):\n",
        "      if((i!=j) & (dist[i][j] <= thresh)):\n",
        "        p1.append(i)\n",
        "        p2.append(j)\n",
        "        d.append(dist[i][j])\n",
        "  return p1,p2,d"
      ],
      "execution_count": null,
      "outputs": []
    },
    {
      "cell_type": "code",
      "metadata": {
        "id": "b88Ss8EYQN9e"
      },
      "source": [
        "def change_2_red(img,person,p1,p2,img_name,name,cnt):\n",
        "  risky = np.unique(p1+p2)\n",
        "  flag = 0\n",
        "  if(len(risky)>0):\n",
        "    flag = 1\n",
        "  for i in risky:\n",
        "    x1,y1,x2,y2 = person[i]\n",
        "    _ = cv2.rectangle(img,(x1,y1),(x2,y2),(0,0,255),2)\n",
        "\n",
        "  #cv2.imwrite(\"\")\n",
        "  cv2.imwrite('/content/frames/'+name,img)\n",
        "  #cv2.imread('/content/frames/'+name,img)\n",
        "\n",
        "  img_name = '/content/frames/'+name\n",
        "\n",
        "  #gray_image = cv2.cvtColor(img, cv2.COLOR_BGR2GRAY) \n",
        "  # histogram = cv2.calcHist([img], [0],  \n",
        "  #                        None, [256], [0, 256]) \n",
        "  \n",
        "  # #gray_image1 = cv2.cvtColor(last_img, cv2.COLOR_BGR2GRAY) \n",
        "  # histogram1 = cv2.calcHist([last_img], [0],  \n",
        "  #                         None, [256], [0, 256]) \n",
        "  \n",
        "  \n",
        "\n",
        "  # c1 = 0\n",
        "\n",
        "  # i = 0\n",
        "  # while i<len(histogram) and i<len(histogram1): \n",
        "  #     c1+=(histogram[i]-histogram1[i])**2\n",
        "  #     i+= 1\n",
        "  # c1 = c1**(1 / 2)\n",
        "  # print(c1) \n",
        "  #print('last_immg = /content/drive/My Drive/social_distancing/Dataset/'+str(i-1)+'.png')\n",
        "  #print('img = /content/frames/'+name)\n",
        "  print(\"i =\",i)\n",
        "  if(flag == 1 and cnt%30 == 0 ):\n",
        "    post_request(img_name,\"A\")\n",
        "  return img"
      ],
      "execution_count": null,
      "outputs": []
    },
    {
      "cell_type": "code",
      "metadata": {
        "id": "rsZPES-FRFm_"
      },
      "source": [
        "import os\n",
        "import re\n",
        "\n",
        "names=os.listdir('/content/drive/My Drive/social_distancing/Dataset/')\n",
        "names.sort(key=lambda f: int(re.sub('\\D', '', f)))"
      ],
      "execution_count": null,
      "outputs": []
    },
    {
      "cell_type": "code",
      "metadata": {
        "id": "AHgh8eoI5Ey8"
      },
      "source": [
        "def initialize():\n",
        "  from firebase_admin import credentials, initialize_app, storage\n",
        "  # Init firebase with your credentials\n",
        "  cred = credentials.Certificate(\"/content/c19watcher-bd93edd80c0e.json\")\n",
        "  initialize_app(cred, {'storageBucket': 'c19watcher.appspot.com'})\n"
      ],
      "execution_count": null,
      "outputs": []
    },
    {
      "cell_type": "code",
      "metadata": {
        "id": "ff3R03714vLS"
      },
      "source": [
        "initialize()"
      ],
      "execution_count": null,
      "outputs": []
    },
    {
      "cell_type": "code",
      "metadata": {
        "id": "xJL_MH2GFEeG"
      },
      "source": [
        "def post_request(f_name,loc):\n",
        "  fileName = f_name\n",
        "  bucket = storage.bucket()\n",
        "  blob = bucket.blob(fileName)\n",
        "  blob.upload_from_filename(fileName)\n",
        "\n",
        "  # Opt : if you want to make public access from the URL\n",
        "  blob.make_public()\n",
        "\n",
        "  print(\"your file url\", blob.public_url)\n",
        "\n",
        "  url = \"https://c19watcher.firebaseio.com/SocialDistancing.json\"\n",
        "  no = loc\n",
        "  payload = '{\"Location\": '+ no +'}'\n",
        "  headers = {\n",
        "    'Content-Type': 'application/json'\n",
        "  }\n",
        "\n",
        "  response = requests.post(url, json={\"Location\": no, \"ImageUrl\": blob.public_url, \"Mask\" : 0,\"SD\" : 1,\"Temp\" : 0})\n",
        "\n",
        "  print(response.text.encode('utf8'))"
      ],
      "execution_count": null,
      "outputs": []
    },
    {
      "cell_type": "code",
      "metadata": {
        "id": "UcwhFai7RXw9"
      },
      "source": [
        "def find_closest_people(name,thresh,cnt):\n",
        "\n",
        "  img = cv2.imread('/content/drive/My Drive/social_distancing/Dataset/'+name)\n",
        "  img_name = '/content/drive/My Drive/social_distancing/Dataset/'+name\n",
        "  outputs = predictor(img)\n",
        "  classes=outputs['instances'].pred_classes.cpu().numpy()\n",
        "  bbox=outputs['instances'].pred_boxes.tensor.cpu().numpy()\n",
        "  ind = np.where(classes==0)[0]\n",
        "  person=bbox[ind]\n",
        "  midpoints = [mid_point(img,person,i) for i in range(len(person))]\n",
        "  num = len(midpoints)\n",
        "  dist= compute_distance(midpoints,num)\n",
        "  p1,p2,d=find_closest(dist,num,thresh)\n",
        "  # if(i == 0):\n",
        "  #   last_img = cv2.imread(\"/content/drive/My Drive/social_distancing/Dataset/0.png\")\n",
        "  # else:\n",
        "  #   last_img = cv2.imread('/content/frames/'+str(i-1)+'.png')\n",
        "  img = change_2_red(img,person,p1,p2,img_name,name,cnt)\n",
        "  #print(flag)\n",
        "  return 0"
      ],
      "execution_count": null,
      "outputs": []
    },
    {
      "cell_type": "code",
      "metadata": {
        "id": "He09YRqARr7W"
      },
      "source": [
        "from tqdm import tqdm\n",
        "thresh=100\n",
        "last_img = cv2.imread(\"/content/drive/My Drive/social_distancing/Dataset/0.png\")\n",
        "cnt = 0\n",
        "for i in tqdm(range(len(names))):\n",
        "  try:\n",
        "    \n",
        "    _= find_closest_people(names[i],thresh,cnt)\n",
        "    cnt = cnt+1\n",
        "    #last_img = cv2.imread('/content/frames/'+str(i-1)+'.png')\n",
        "\n",
        "\n",
        "  except:\n",
        "    continue "
      ],
      "execution_count": null,
      "outputs": []
    },
    {
      "cell_type": "code",
      "metadata": {
        "id": "k2UP7IWIRywJ"
      },
      "source": [
        "%%time\n",
        "frames = os.listdir('frames/')\n",
        "frames.sort(key=lambda f: int(re.sub('\\D', '', f)))\n",
        "\n",
        "frame_array=[]\n",
        "\n",
        "for i in range(len(frames)):\n",
        "    \n",
        "    #reading each files\n",
        "    img = cv2.imread('frames/'+frames[i])\n",
        "    img = cv2.cvtColor(img,cv2.COLOR_BGR2RGB)\n",
        "\n",
        "    height, width, layers = img.shape\n",
        "    size = (width,height)\n",
        "    \n",
        "    #inserting the frames into an image array\n",
        "    frame_array.append(img)\n",
        "\n",
        "out = cv2.VideoWriter('sample_output_5sec_red.mp4',cv2.VideoWriter_fourcc(*'DIVX'), 25, size)\n",
        " \n",
        "for i in range(len(frame_array)):\n",
        "    # writing to a image array\n",
        "    out.write(frame_array[i])\n",
        "out.release()"
      ],
      "execution_count": null,
      "outputs": []
    }
  ]
}